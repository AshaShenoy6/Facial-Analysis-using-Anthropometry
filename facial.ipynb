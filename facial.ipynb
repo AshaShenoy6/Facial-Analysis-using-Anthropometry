{
 "cells": [
  {
   "cell_type": "code",
   "execution_count": 1,
   "metadata": {},
   "outputs": [],
   "source": [
    "import numpy as np\n",
    "import pandas as pd\n"
   ]
  },
  {
   "cell_type": "code",
   "execution_count": 2,
   "metadata": {},
   "outputs": [],
   "source": [
    "data=pd.read_csv(r\"C:\\Users\\ASHA\\Documents\\F12.csv\")"
   ]
  },
  {
   "cell_type": "code",
   "execution_count": 3,
   "metadata": {},
   "outputs": [],
   "source": [
    "df1=pd.DataFrame(data)"
   ]
  },
  {
   "cell_type": "code",
   "execution_count": 4,
   "metadata": {},
   "outputs": [],
   "source": [
    "df1.dropna(inplace=True)"
   ]
  },
  {
   "cell_type": "code",
   "execution_count": 5,
   "metadata": {},
   "outputs": [],
   "source": [
    "df1.columns=['Features','Ratio','f1','f2','f3']"
   ]
  },
  {
   "cell_type": "code",
   "execution_count": 6,
   "metadata": {},
   "outputs": [
    {
     "data": {
      "text/html": [
       "<div>\n",
       "<style scoped>\n",
       "    .dataframe tbody tr th:only-of-type {\n",
       "        vertical-align: middle;\n",
       "    }\n",
       "\n",
       "    .dataframe tbody tr th {\n",
       "        vertical-align: top;\n",
       "    }\n",
       "\n",
       "    .dataframe thead th {\n",
       "        text-align: right;\n",
       "    }\n",
       "</style>\n",
       "<table border=\"1\" class=\"dataframe\">\n",
       "  <thead>\n",
       "    <tr style=\"text-align: right;\">\n",
       "      <th></th>\n",
       "      <th>Features</th>\n",
       "      <th>Ratio</th>\n",
       "      <th>f1</th>\n",
       "      <th>f2</th>\n",
       "      <th>f3</th>\n",
       "    </tr>\n",
       "  </thead>\n",
       "  <tbody>\n",
       "    <tr>\n",
       "      <th>2</th>\n",
       "      <td>Maximum Face height</td>\n",
       "      <td>a</td>\n",
       "      <td>248</td>\n",
       "      <td>55</td>\n",
       "      <td>70</td>\n",
       "    </tr>\n",
       "    <tr>\n",
       "      <th>3</th>\n",
       "      <td>Maximum Face width</td>\n",
       "      <td>b</td>\n",
       "      <td>259</td>\n",
       "      <td>54</td>\n",
       "      <td>68</td>\n",
       "    </tr>\n",
       "    <tr>\n",
       "      <th>4</th>\n",
       "      <td>Face width with eye line</td>\n",
       "      <td>c</td>\n",
       "      <td>254</td>\n",
       "      <td>55</td>\n",
       "      <td>72</td>\n",
       "    </tr>\n",
       "    <tr>\n",
       "      <th>5</th>\n",
       "      <td>Face width with nasel line</td>\n",
       "      <td>d</td>\n",
       "      <td>250</td>\n",
       "      <td>53</td>\n",
       "      <td>78</td>\n",
       "    </tr>\n",
       "    <tr>\n",
       "      <th>6</th>\n",
       "      <td>Face width with mouth line</td>\n",
       "      <td>e</td>\n",
       "      <td>245</td>\n",
       "      <td>50</td>\n",
       "      <td>68</td>\n",
       "    </tr>\n",
       "    <tr>\n",
       "      <th>7</th>\n",
       "      <td>Inter distance of Irises at Eye line</td>\n",
       "      <td>f</td>\n",
       "      <td>114</td>\n",
       "      <td>23</td>\n",
       "      <td>30</td>\n",
       "    </tr>\n",
       "    <tr>\n",
       "      <th>8</th>\n",
       "      <td>Vertical distance- Eye line to mouth line</td>\n",
       "      <td>g</td>\n",
       "      <td>139</td>\n",
       "      <td>27</td>\n",
       "      <td>36</td>\n",
       "    </tr>\n",
       "    <tr>\n",
       "      <th>9</th>\n",
       "      <td>Nose width</td>\n",
       "      <td>h</td>\n",
       "      <td>72</td>\n",
       "      <td>17</td>\n",
       "      <td>26</td>\n",
       "    </tr>\n",
       "    <tr>\n",
       "      <th>10</th>\n",
       "      <td>mouth width</td>\n",
       "      <td>i</td>\n",
       "      <td>103</td>\n",
       "      <td>25</td>\n",
       "      <td>33</td>\n",
       "    </tr>\n",
       "    <tr>\n",
       "      <th>11</th>\n",
       "      <td>Average Eye width</td>\n",
       "      <td>j</td>\n",
       "      <td>58</td>\n",
       "      <td>12</td>\n",
       "      <td>20</td>\n",
       "    </tr>\n",
       "    <tr>\n",
       "      <th>12</th>\n",
       "      <td>Average Ear width</td>\n",
       "      <td>k</td>\n",
       "      <td>45</td>\n",
       "      <td>14</td>\n",
       "      <td>14</td>\n",
       "    </tr>\n",
       "    <tr>\n",
       "      <th>13</th>\n",
       "      <td>Average Ear height</td>\n",
       "      <td>l</td>\n",
       "      <td>90</td>\n",
       "      <td>24</td>\n",
       "      <td>29</td>\n",
       "    </tr>\n",
       "    <tr>\n",
       "      <th>14</th>\n",
       "      <td>Height of upper face portion from eye line</td>\n",
       "      <td>m</td>\n",
       "      <td>142</td>\n",
       "      <td>35</td>\n",
       "      <td>39</td>\n",
       "    </tr>\n",
       "    <tr>\n",
       "      <th>15</th>\n",
       "      <td>Height of lower face portion from the eye line</td>\n",
       "      <td>n</td>\n",
       "      <td>209</td>\n",
       "      <td>47</td>\n",
       "      <td>56</td>\n",
       "    </tr>\n",
       "    <tr>\n",
       "      <th>18</th>\n",
       "      <td>Parameters</td>\n",
       "      <td>as % of numerator</td>\n",
       "      <td>Ex 1</td>\n",
       "      <td>Ex 2</td>\n",
       "      <td>Ex 3</td>\n",
       "    </tr>\n",
       "    <tr>\n",
       "      <th>19</th>\n",
       "      <td>Face ratio 1</td>\n",
       "      <td>a/b</td>\n",
       "      <td>0.957528958</td>\n",
       "      <td>1.018518519</td>\n",
       "      <td>1.029411765</td>\n",
       "    </tr>\n",
       "    <tr>\n",
       "      <th>20</th>\n",
       "      <td>Face ratio 2</td>\n",
       "      <td>g/f</td>\n",
       "      <td>1.219298246</td>\n",
       "      <td>1.173913043</td>\n",
       "      <td>1.2</td>\n",
       "    </tr>\n",
       "    <tr>\n",
       "      <th>21</th>\n",
       "      <td>Eye width Ratio</td>\n",
       "      <td>c/f</td>\n",
       "      <td>2.228070175</td>\n",
       "      <td>2.391304348</td>\n",
       "      <td>2.4</td>\n",
       "    </tr>\n",
       "    <tr>\n",
       "      <th>22</th>\n",
       "      <td>Nose width Ratio 1</td>\n",
       "      <td>b/h</td>\n",
       "      <td>3.597222222</td>\n",
       "      <td>3.176470588</td>\n",
       "      <td>2.615384615</td>\n",
       "    </tr>\n",
       "    <tr>\n",
       "      <th>23</th>\n",
       "      <td>Nose width Ratio 2</td>\n",
       "      <td>d/h</td>\n",
       "      <td>3.472222222</td>\n",
       "      <td>3.117647059</td>\n",
       "      <td>3</td>\n",
       "    </tr>\n",
       "    <tr>\n",
       "      <th>24</th>\n",
       "      <td>Mouth width Ratio 1</td>\n",
       "      <td>b/i</td>\n",
       "      <td>2.514563107</td>\n",
       "      <td>2.16</td>\n",
       "      <td>2.060606061</td>\n",
       "    </tr>\n",
       "    <tr>\n",
       "      <th>25</th>\n",
       "      <td>Mouth width Ratio 2</td>\n",
       "      <td>e/i</td>\n",
       "      <td>2.378640777</td>\n",
       "      <td>2</td>\n",
       "      <td>2.060606061</td>\n",
       "    </tr>\n",
       "    <tr>\n",
       "      <th>26</th>\n",
       "      <td>Ear width Ratio</td>\n",
       "      <td>b/k</td>\n",
       "      <td>5.755555556</td>\n",
       "      <td>3.857142857</td>\n",
       "      <td>4.857142857</td>\n",
       "    </tr>\n",
       "    <tr>\n",
       "      <th>27</th>\n",
       "      <td>Ear height Ratio</td>\n",
       "      <td>a/l</td>\n",
       "      <td>2.755555556</td>\n",
       "      <td>2.291666667</td>\n",
       "      <td>2.413793103</td>\n",
       "    </tr>\n",
       "    <tr>\n",
       "      <th>28</th>\n",
       "      <td>Face height (Bisector) Ratio</td>\n",
       "      <td>m/n</td>\n",
       "      <td>0.679425837</td>\n",
       "      <td>0.744680851</td>\n",
       "      <td>0.696428571</td>\n",
       "    </tr>\n",
       "  </tbody>\n",
       "</table>\n",
       "</div>"
      ],
      "text/plain": [
       "                                          Features              Ratio  \\\n",
       "2                              Maximum Face height                  a   \n",
       "3                              Maximum Face width                   b   \n",
       "4                         Face width with eye line                  c   \n",
       "5                       Face width with nasel line                  d   \n",
       "6                       Face width with mouth line                  e   \n",
       "7             Inter distance of Irises at Eye line                  f   \n",
       "8        Vertical distance- Eye line to mouth line                  g   \n",
       "9                                       Nose width                  h   \n",
       "10                                     mouth width                  i   \n",
       "11                               Average Eye width                  j   \n",
       "12                               Average Ear width                  k   \n",
       "13                              Average Ear height                  l   \n",
       "14      Height of upper face portion from eye line                  m   \n",
       "15  Height of lower face portion from the eye line                  n   \n",
       "18                                      Parameters  as % of numerator   \n",
       "19                                    Face ratio 1               a/b    \n",
       "20                                    Face ratio 2               g/f    \n",
       "21                                 Eye width Ratio                c/f   \n",
       "22                              Nose width Ratio 1                b/h   \n",
       "23                              Nose width Ratio 2                d/h   \n",
       "24                             Mouth width Ratio 1                b/i   \n",
       "25                             Mouth width Ratio 2                e/i   \n",
       "26                                 Ear width Ratio                b/k   \n",
       "27                                Ear height Ratio                a/l   \n",
       "28                    Face height (Bisector) Ratio                m/n   \n",
       "\n",
       "             f1           f2           f3  \n",
       "2           248           55           70  \n",
       "3           259           54           68  \n",
       "4           254           55           72  \n",
       "5           250           53           78  \n",
       "6           245           50           68  \n",
       "7           114           23           30  \n",
       "8           139           27           36  \n",
       "9            72           17           26  \n",
       "10          103           25           33  \n",
       "11           58           12           20  \n",
       "12           45           14           14  \n",
       "13           90           24           29  \n",
       "14          142           35           39  \n",
       "15          209           47           56  \n",
       "18         Ex 1         Ex 2         Ex 3  \n",
       "19  0.957528958  1.018518519  1.029411765  \n",
       "20  1.219298246  1.173913043          1.2  \n",
       "21  2.228070175  2.391304348          2.4  \n",
       "22  3.597222222  3.176470588  2.615384615  \n",
       "23  3.472222222  3.117647059            3  \n",
       "24  2.514563107         2.16  2.060606061  \n",
       "25  2.378640777            2  2.060606061  \n",
       "26  5.755555556  3.857142857  4.857142857  \n",
       "27  2.755555556  2.291666667  2.413793103  \n",
       "28  0.679425837  0.744680851  0.696428571  "
      ]
     },
     "execution_count": 6,
     "metadata": {},
     "output_type": "execute_result"
    }
   ],
   "source": [
    "df1"
   ]
  },
  {
   "cell_type": "code",
   "execution_count": 7,
   "metadata": {},
   "outputs": [],
   "source": [
    "l1=[df1.loc[19]['f1'],df1.loc[19]['f3']]\n",
    "l2=[df1.loc[20]['f1'],df1.loc[20]['f3']]\n",
    "l3=[df1.loc[21]['f1'],df1.loc[21]['f3']]\n",
    "l4=[df1.loc[22]['f1'],df1.loc[22]['f3']]\n",
    "l5=[df1.loc[23]['f1'],df1.loc[23]['f3']]\n",
    "l6=[df1.loc[24]['f1'],df1.loc[24]['f3']]\n",
    "l7=[df1.loc[25]['f1'],df1.loc[25]['f3']]\n",
    "l8=[df1.loc[26]['f1'],df1.loc[26]['f3']]\n",
    "l9=[df1.loc[27]['f1'],df1.loc[27]['f3']]\n",
    "l10=[df1.loc[28]['f1'],df1.loc[28]['f3']]\n"
   ]
  },
  {
   "cell_type": "code",
   "execution_count": 8,
   "metadata": {},
   "outputs": [],
   "source": [
    "features=list(zip(l1,l2,l3,l4,l5,l6,l7,l8,l9,l10))\n"
   ]
  },
  {
   "cell_type": "code",
   "execution_count": 9,
   "metadata": {},
   "outputs": [],
   "source": [
    "labels=['f1','f2']"
   ]
  },
  {
   "cell_type": "code",
   "execution_count": 10,
   "metadata": {},
   "outputs": [],
   "source": [
    "from sklearn.neighbors import KNeighborsClassifier\n"
   ]
  },
  {
   "cell_type": "code",
   "execution_count": 11,
   "metadata": {},
   "outputs": [],
   "source": [
    "\n",
    "model = KNeighborsClassifier(n_neighbors=1)\n"
   ]
  },
  {
   "cell_type": "code",
   "execution_count": 12,
   "metadata": {},
   "outputs": [
    {
     "name": "stderr",
     "output_type": "stream",
     "text": [
      "c:\\users\\asha\\venv\\lib\\site-packages\\sklearn\\utils\\validation.py:73: FutureWarning: Beginning in version 0.22, arrays of bytes/strings will be converted to decimal numbers if dtype='numeric'. It is recommended that you convert the array to a float dtype before using it in scikit-learn, for example by using your_array = your_array.astype(np.float64).\n",
      "  return f(**kwargs)\n",
      "c:\\users\\asha\\venv\\lib\\site-packages\\sklearn\\utils\\validation.py:73: FutureWarning: Beginning in version 0.22, arrays of bytes/strings will be converted to decimal numbers if dtype='numeric'. It is recommended that you convert the array to a float dtype before using it in scikit-learn, for example by using your_array = your_array.astype(np.float64).\n",
      "  return f(**kwargs)\n"
     ]
    },
    {
     "data": {
      "text/plain": [
       "KNeighborsClassifier(n_neighbors=1)"
      ]
     },
     "execution_count": 12,
     "metadata": {},
     "output_type": "execute_result"
    }
   ],
   "source": [
    "model.fit(features,labels)\n"
   ]
  },
  {
   "cell_type": "code",
   "execution_count": 13,
   "metadata": {},
   "outputs": [],
   "source": [
    "predicted= model.predict([[1.029411765,\n",
    "1.2,\n",
    "2.4,\n",
    "2.615384615,\n",
    "3,\n",
    "2.060606061,\n",
    "2.060606061,\n",
    "4.857142857,\n",
    "2.413793103,\n",
    "0.696428571,\n",
    "]]) \n"
   ]
  },
  {
   "cell_type": "code",
   "execution_count": 14,
   "metadata": {},
   "outputs": [
    {
     "name": "stdout",
     "output_type": "stream",
     "text": [
      "Face is more likely to be in the category- ['f2']\n"
     ]
    }
   ],
   "source": [
    "print(\"Face is more likely to be in the category-\",predicted)"
   ]
  },
  {
   "cell_type": "code",
   "execution_count": null,
   "metadata": {},
   "outputs": [],
   "source": []
  },
  {
   "cell_type": "code",
   "execution_count": null,
   "metadata": {},
   "outputs": [],
   "source": []
  },
  {
   "cell_type": "code",
   "execution_count": 11,
   "metadata": {},
   "outputs": [],
   "source": []
  },
  {
   "cell_type": "code",
   "execution_count": null,
   "metadata": {},
   "outputs": [],
   "source": []
  }
 ],
 "metadata": {
  "kernelspec": {
   "display_name": "Python 3",
   "language": "python",
   "name": "python3"
  },
  "language_info": {
   "codemirror_mode": {
    "name": "ipython",
    "version": 3
   },
   "file_extension": ".py",
   "mimetype": "text/x-python",
   "name": "python",
   "nbconvert_exporter": "python",
   "pygments_lexer": "ipython3",
   "version": "3.8.2"
  }
 },
 "nbformat": 4,
 "nbformat_minor": 4
}
